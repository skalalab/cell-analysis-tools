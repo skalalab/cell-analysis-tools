{
 "cells": [
  {
   "cell_type": "markdown",
   "metadata": {
    "collapsed": true,
    "pycharm": {
     "name": "#%% md\n"
    }
   },
   "source": [
    "# ROI Filler\n",
    "## Overview\n",
    "- The purpose of this notebook is to generate filled and labeled versions of ROI outlines."
   ]
  },
  {
   "cell_type": "code",
   "execution_count": 3,
   "outputs": [
    {
     "name": "stdout",
     "output_type": "stream",
     "text": [
      "Collecting tk\n",
      "  Using cached tk-0.1.0-py3-none-any.whl (3.9 kB)\n",
      "Requirement already satisfied: tifffile in c:\\users\\prehani\\anaconda3\\lib\\site-packages (from -r requirements.txt (line 2)) (2021.4.8)\n",
      "Requirement already satisfied: scipy in c:\\users\\prehani\\anaconda3\\lib\\site-packages (from -r requirements.txt (line 3)) (1.6.2)\n",
      "Requirement already satisfied: numpy<1.23.0,>=1.16.5 in c:\\users\\prehani\\anaconda3\\lib\\site-packages (from scipy->-r requirements.txt (line 3)) (1.20.1)\n",
      "Installing collected packages: tk\n",
      "Successfully installed tk-0.1.0\n"
     ]
    }
   ],
   "source": [
    "# Ensure that everything necessary is installed\n",
    "# - If this your first time running the notebook,\n",
    "#   please run to ensure everything is set up correctly!\n",
    "\n",
    "!pip install -r requirements.txt"
   ],
   "metadata": {
    "collapsed": false,
    "pycharm": {
     "name": "#%%\n"
    }
   }
  },
  {
   "cell_type": "code",
   "execution_count": 4,
   "outputs": [
    {
     "name": "stdout",
     "output_type": "stream",
     "text": [
      "Imported everything correctly!\n"
     ]
    },
    {
     "data": {
      "text/plain": "Box(children=(Button(description='Pick starting directory:', layout=Layout(height='40px', width='auto'), style…",
      "application/vnd.jupyter.widget-view+json": {
       "version_major": 2,
       "version_minor": 0,
       "model_id": "b2797afc75a146af975ed8d6fc82d96c"
      }
     },
     "metadata": {},
     "output_type": "display_data"
    },
    {
     "name": "stdout",
     "output_type": "stream",
     "text": [
      "Updated the initial directory: C:/Users/prehani/Documents/Cell + Nuclei Outlines from Rebecca\n",
      "Converted and exported C:\\Users\\prehani\\Documents\\Cell + Nuclei Outlines from Rebecca\\filled_labeled_rois\\rotanone_Dish1_1n_photonsNuclei.tiff\n",
      "Converted and exported C:\\Users\\prehani\\Documents\\Cell + Nuclei Outlines from Rebecca\\filled_labeled_rois\\rotanone_Dish1_2n_photonsNuclei.tiff\n",
      "Converted and exported C:\\Users\\prehani\\Documents\\Cell + Nuclei Outlines from Rebecca\\filled_labeled_rois\\rotanone_Dish1_3n_photonsNuclei.tiff\n",
      "Converted and exported C:\\Users\\prehani\\Documents\\Cell + Nuclei Outlines from Rebecca\\filled_labeled_rois\\rotanone_Dish1_4n_photonsNuclei.tiff\n",
      "Converted and exported C:\\Users\\prehani\\Documents\\Cell + Nuclei Outlines from Rebecca\\filled_labeled_rois\\rotanone_Dish1_5n_photonsNuclei.tiff\n",
      "Converted and exported C:\\Users\\prehani\\Documents\\Cell + Nuclei Outlines from Rebecca\\filled_labeled_rois\\rotanone_Dish1_6n_photonsNuclei.tiff\n",
      "Converted and exported C:\\Users\\prehani\\Documents\\Cell + Nuclei Outlines from Rebecca\\filled_labeled_rois\\rotanone_Dish2_1n_photonsNuclei.tiff\n",
      "Converted and exported C:\\Users\\prehani\\Documents\\Cell + Nuclei Outlines from Rebecca\\filled_labeled_rois\\rotanone_Dish2_2n_photonsNuclei.tiff\n",
      "Converted and exported C:\\Users\\prehani\\Documents\\Cell + Nuclei Outlines from Rebecca\\filled_labeled_rois\\rotanone_Dish2_3n_photonsNuclei.tiff\n",
      "Converted and exported C:\\Users\\prehani\\Documents\\Cell + Nuclei Outlines from Rebecca\\filled_labeled_rois\\rotanone_Dish2_4n_photonsNuclei.tiff\n",
      "Converted and exported C:\\Users\\prehani\\Documents\\Cell + Nuclei Outlines from Rebecca\\filled_labeled_rois\\rotanone_Dish2_5n_photonsNuclei.tiff\n",
      "Converted and exported C:\\Users\\prehani\\Documents\\Cell + Nuclei Outlines from Rebecca\\filled_labeled_rois\\rotanone_Dish2_6n_photonsNuclei.tiff\n"
     ]
    }
   ],
   "source": [
    "# This section allows for reimporting custom methods without restarting the entire kernel\n",
    "%load_ext autoreload\n",
    "%autoreload 2\n",
    "\n",
    "# imports\n",
    "from roi_filler import *\n",
    "\n",
    "print('Imported everything correctly!')\n",
    "\n",
    "button_dict, box = roi_filler_widget_driver()\n",
    "box"
   ],
   "metadata": {
    "collapsed": false,
    "pycharm": {
     "name": "#%%\n"
    }
   }
  }
 ],
 "metadata": {
  "kernelspec": {
   "name": "python3",
   "language": "python",
   "display_name": "Python 3"
  },
  "language_info": {
   "codemirror_mode": {
    "name": "ipython",
    "version": 2
   },
   "file_extension": ".py",
   "mimetype": "text/x-python",
   "name": "python",
   "nbconvert_exporter": "python",
   "pygments_lexer": "ipython2",
   "version": "2.7.6"
  }
 },
 "nbformat": 4,
 "nbformat_minor": 0
}